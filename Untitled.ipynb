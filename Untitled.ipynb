{
 "cells": [
  {
   "cell_type": "code",
   "execution_count": 26,
   "metadata": {},
   "outputs": [
    {
     "name": "stdout",
     "output_type": "stream",
     "text": [
      "index: 0, element: 1\n",
      "1000000000000000 1000000000000000 1000000000000000\n",
      "1 1000000000000000 1000000000000000\n",
      "=========================\n",
      "index: 1, element: 2\n",
      "1 1000000000000000 1000000000000000\n",
      "1 2 1000000000000000\n",
      "=========================\n",
      "index: 2, element: 1\n",
      "1 2 1000000000000000\n",
      "1 2 1000000000000000\n",
      "=========================\n",
      "index: 3, element: 2\n",
      "1 2 1000000000000000\n",
      "1 2 1000000000000000\n",
      "=========================\n",
      "index: 4, element: 1\n",
      "1 2 1000000000000000\n",
      "1 2 1000000000000000\n",
      "=========================\n",
      "index: 5, element: 2\n",
      "1 2 1000000000000000\n",
      "1 2 1000000000000000\n",
      "=========================\n",
      "index: 6, element: 1\n",
      "1 2 1000000000000000\n",
      "1 2 1000000000000000\n",
      "=========================\n",
      "index: 7, element: 2\n",
      "1 2 1000000000000000\n",
      "1 2 1000000000000000\n",
      "=========================\n",
      "index: 8, element: 1\n",
      "1 2 1000000000000000\n",
      "1 2 1000000000000000\n",
      "=========================\n",
      "index: 9, element: 2\n",
      "1 2 1000000000000000\n",
      "1 2 1000000000000000\n",
      "=========================\n"
     ]
    },
    {
     "data": {
      "text/plain": [
       "False"
      ]
     },
     "execution_count": 26,
     "metadata": {},
     "output_type": "execute_result"
    }
   ],
   "source": [
    "def fun():\n",
    "    nums = [1,2,1,2,1,2,1,2,1,2]\n",
    "    first = 1000000000000000\n",
    "    second = 1000000000000000\n",
    "    third = 1000000000000000\n",
    "    \n",
    "    top = 0\n",
    "    for i in range(0, len(nums)):\n",
    "        print(\"index: {}, element: {}\".format(i, nums[i]))\n",
    "        print(first, second, third)\n",
    "        \n",
    "        if nums[i] <= first:\n",
    "            first = nums[i]\n",
    "            secod = third = 1000000000000000\n",
    "        elif nums[i] <= second:\n",
    "            second = nums[i]\n",
    "            third = 1000000000000000\n",
    "        elif nums[i] < third:\n",
    "            third = nums[i]\n",
    "            print(first, second, third)\n",
    "            return True\n",
    "        print(first, second, third)\n",
    "        print(\"=========================\")\n",
    "    return False\n",
    "    \n",
    "fun()"
   ]
  },
  {
   "cell_type": "code",
   "execution_count": null,
   "metadata": {},
   "outputs": [],
   "source": []
  },
  {
   "cell_type": "code",
   "execution_count": null,
   "metadata": {},
   "outputs": [],
   "source": []
  }
 ],
 "metadata": {
  "kernelspec": {
   "display_name": "Python 3",
   "language": "python",
   "name": "python3"
  },
  "language_info": {
   "codemirror_mode": {
    "name": "ipython",
    "version": 3
   },
   "file_extension": ".py",
   "mimetype": "text/x-python",
   "name": "python",
   "nbconvert_exporter": "python",
   "pygments_lexer": "ipython3",
   "version": "3.6.9"
  }
 },
 "nbformat": 4,
 "nbformat_minor": 2
}
